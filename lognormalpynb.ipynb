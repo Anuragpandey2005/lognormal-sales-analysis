{
  "nbformat": 4,
  "nbformat_minor": 0,
  "metadata": {
    "colab": {
      "private_outputs": true,
      "provenance": [],
      "authorship_tag": "ABX9TyMKlEen9BSv/uiXUQApDfwd",
      "include_colab_link": true
    },
    "kernelspec": {
      "name": "python3",
      "display_name": "Python 3"
    },
    "language_info": {
      "name": "python"
    }
  },
  "cells": [
    {
      "cell_type": "markdown",
      "metadata": {
        "id": "view-in-github",
        "colab_type": "text"
      },
      "source": [
        "<a href=\"https://colab.research.google.com/github/Anuragpandey2005/lognormal-sales-analysis/blob/main/lognormalpynb.ipynb\" target=\"_parent\"><img src=\"https://colab.research.google.com/assets/colab-badge.svg\" alt=\"Open In Colab\"/></a>"
      ]
    },
    {
      "cell_type": "code",
      "source": [
        "import pandas as pd\n",
        "import numpy as np\n"
      ],
      "metadata": {
        "id": "bEYC-_Mn7tnP"
      },
      "execution_count": null,
      "outputs": []
    },
    {
      "cell_type": "code",
      "source": [
        "#import dataset\n",
        "df = pd.read_excel(\"/content/Sample B2C Dataset EDA.xlsx\")"
      ],
      "metadata": {
        "id": "hrSv8AwP70RT"
      },
      "execution_count": null,
      "outputs": []
    },
    {
      "cell_type": "code",
      "source": [
        "#print dataset\n",
        "df"
      ],
      "metadata": {
        "id": "x7xTAwQ-8A9V"
      },
      "execution_count": null,
      "outputs": []
    },
    {
      "cell_type": "code",
      "source": [
        "#print info of the dataset\n",
        "print(df.info())\n"
      ],
      "metadata": {
        "id": "dH-xsj3f8CKa"
      },
      "execution_count": null,
      "outputs": []
    },
    {
      "cell_type": "markdown",
      "source": [
        "🧹 Step 2: Data Cleaning & Preparation\n"
      ],
      "metadata": {
        "id": "sjtbid8d_tGm"
      }
    },
    {
      "cell_type": "code",
      "source": [
        "# Assume 1 EUR = 30 TRY\n",
        "try_columns = ['Price', 'Competitor Price']\n",
        "conversion_rate = 30"
      ],
      "metadata": {
        "id": "PlXonTNC_ueb"
      },
      "execution_count": null,
      "outputs": []
    },
    {
      "cell_type": "markdown",
      "source": [
        "2.2 Handle Missing Data"
      ],
      "metadata": {
        "id": "1AsMICJn_9nY"
      }
    },
    {
      "cell_type": "code",
      "source": [
        "# Print original column names for reference\n",
        "print(\"Original Columns:\")\n",
        "print(df.columns.tolist())\n",
        "\n",
        "# Clean column names\n",
        "df.columns = df.columns.str.strip().str.replace(' ', '_').str.replace('(', '').str.replace(')', '')\n",
        "print(\"\\nCleaned Columns:\")\n",
        "print(df.columns.tolist())\n"
      ],
      "metadata": {
        "id": "gCREbRaOAClK"
      },
      "execution_count": null,
      "outputs": []
    },
    {
      "cell_type": "code",
      "source": [
        "# Fill missing Advertising Spend with median\n",
        "df['Advertising_Spend_EUR'].fillna(df['Advertising_Spend_EUR'].median(), inplace=True)\n"
      ],
      "metadata": {
        "id": "RGNRYi7BA8lq"
      },
      "execution_count": null,
      "outputs": []
    },
    {
      "cell_type": "code",
      "source": [
        "print(df.isnull().sum())\n"
      ],
      "metadata": {
        "id": "aMbWI434BG5J"
      },
      "execution_count": null,
      "outputs": []
    },
    {
      "cell_type": "code",
      "source": [
        "# Fill missing values\n",
        "df['Sales_Volume'].fillna(df['Sales_Volume'].median(), inplace=True)\n",
        "df['Customer_Reviews'].fillna(df['Customer_Reviews'].median(), inplace=True)\n",
        "\n",
        "# Check if anything remains missing\n",
        "print(df.isnull().sum())\n"
      ],
      "metadata": {
        "id": "LUYCBDvsBLj8"
      },
      "execution_count": null,
      "outputs": []
    },
    {
      "cell_type": "markdown",
      "source": [
        "Step 4: standarise the columns\n",
        "\n",
        "* Currency Conversion (TRY → EUR)\n"
      ],
      "metadata": {
        "id": "40cN4XYaBnqd"
      }
    },
    {
      "cell_type": "code",
      "source": [
        "# Set exchange rate\n",
        "exchange_rate = 45\n",
        "\n",
        "# Identify rows in TRY\n",
        "try_mask = df['Pricing_Currency'] == 'TRY'\n",
        "\n",
        "# Convert relevant columns from TRY to EUR\n",
        "df.loc[try_mask, ['Price', 'Competitor_Price']] = df.loc[try_mask, ['Price', 'Competitor_Price']] / exchange_rate\n",
        "\n",
        "# Optional: update currency column to EUR after conversion\n",
        "df.loc[try_mask, 'Pricing_Currency'] = 'EUR'\n",
        "\n",
        "# Confirm conversion\n",
        "print(df[try_mask][['Product_Name', 'Price', 'Competitor_Price', 'Pricing_Currency']].head())\n"
      ],
      "metadata": {
        "id": "2Y8cYI2bBbkx"
      },
      "execution_count": null,
      "outputs": []
    },
    {
      "cell_type": "markdown",
      "source": [
        "✅ Step 5: Handle Outliers\n",
        "\n"
      ],
      "metadata": {
        "id": "kIqNxgE9Bysi"
      }
    },
    {
      "cell_type": "code",
      "source": [
        "# Replace zero or negative prices with median of valid prices\n",
        "valid_price_median = df[df['Price'] > 0]['Price'].median()\n",
        "df.loc[df['Price'] <= 0, 'Price'] = valid_price_median\n",
        "\n",
        "valid_comp_price_median = df[df['Competitor_Price'] > 0]['Competitor_Price'].median()\n",
        "df.loc[df['Competitor_Price'] <= 0, 'Competitor_Price'] = valid_comp_price_median\n"
      ],
      "metadata": {
        "id": "MOHdu2REBqr4"
      },
      "execution_count": null,
      "outputs": []
    },
    {
      "cell_type": "code",
      "source": [
        "# Check if any products had sales but stock was 0\n",
        "stock_issue = df[(df['Warehouse_Stock_Level'] == 0) & (df['Sales_Volume'] > 0)]\n",
        "\n",
        "# Show a few for inspection\n",
        "print(stock_issue[['Product_Name', 'Sales_Volume', 'Warehouse_Stock_Level']])\n"
      ],
      "metadata": {
        "id": "M7dXzsszB4c5"
      },
      "execution_count": null,
      "outputs": []
    },
    {
      "cell_type": "markdown",
      "source": [
        "Step 6: Feature Engineering"
      ],
      "metadata": {
        "id": "Dpb-kHsbCL1r"
      }
    },
    {
      "cell_type": "code",
      "source": [
        "# 1. Price Differential: Difference from competitor\n",
        "df['Price_Differential'] = df['Price'] - df['Competitor_Price']\n",
        "\n",
        "# 2. Ad Efficiency: Sales per euro spent\n",
        "df['Ad_Efficiency'] = df['Sales_Volume'] / (df['Advertising_Spend_EUR'] + 1)  # +1 avoids division by zero\n",
        "\n",
        "# 3. Is_Stockout: Flag zero stock\n",
        "df['Is_Stockout'] = df['Warehouse_Stock_Level'].apply(lambda x: 1 if x == 0 else 0)\n",
        "\n",
        "# 4. Price Tier: Categorize into Low, Medium, High price products\n",
        "df['Price_Tier'] = pd.qcut(df['Price'], q=3, labels=['Low', 'Medium', 'High'])\n"
      ],
      "metadata": {
        "id": "0VxqKA9EB7Ok"
      },
      "execution_count": null,
      "outputs": []
    },
    {
      "cell_type": "code",
      "source": [
        "# Check result\n",
        "print(df[['Product_Name', 'Price', 'Competitor_Price', 'Price_Differential', 'Ad_Efficiency', 'Is_Stockout', 'Price_Tier']].head())\n"
      ],
      "metadata": {
        "id": "e7ZqDOOL3_UK"
      },
      "execution_count": null,
      "outputs": []
    },
    {
      "cell_type": "markdown",
      "source": [
        "Step 7: Exploratory Data Analysis (EDA)"
      ],
      "metadata": {
        "id": "DslaUIkHCgJZ"
      }
    },
    {
      "cell_type": "code",
      "source": [
        "import matplotlib.pyplot as plt\n",
        "import seaborn as sns\n",
        "\n",
        "# Set style\n",
        "sns.set(style='whitegrid')\n",
        "\n",
        "# 1. Total Sales Volume by Category\n",
        "category_sales = df.groupby('Category')['Sales_Volume'].sum().reset_index()\n",
        "sns.barplot(data=category_sales, x='Category', y='Sales_Volume', palette='Set2')\n",
        "plt.title('Total Sales Volume by Category')\n",
        "plt.xticks(rotation=45)\n",
        "plt.show()"
      ],
      "metadata": {
        "id": "3ovW-tXuCO3O"
      },
      "execution_count": null,
      "outputs": []
    },
    {
      "cell_type": "code",
      "source": [
        "# 2. Total Sales Volume by Price Tier\n",
        "price_tier_sales = df.groupby('Price_Tier')['Sales_Volume'].sum().reset_index()\n",
        "sns.barplot(data=price_tier_sales, x='Price_Tier', y='Sales_Volume', palette='Set1')\n",
        "plt.title('Total Sales Volume by Price Tier')\n",
        "plt.show()"
      ],
      "metadata": {
        "id": "WFetDlpL4Snx"
      },
      "execution_count": null,
      "outputs": []
    },
    {
      "cell_type": "markdown",
      "source": [
        "Step 8: Correlation & Trend Detection\n"
      ],
      "metadata": {
        "id": "duhusSnCCt0D"
      }
    },
    {
      "cell_type": "markdown",
      "source": [
        "Pearson Correlation Heatmap"
      ],
      "metadata": {
        "id": "9xpRxYWCC7K9"
      }
    },
    {
      "cell_type": "code",
      "source": [
        "# Correlation matrix for numeric variables\n",
        "correlation_matrix = df[['Sales_Volume', 'Price', 'Competitor_Price',\n",
        "                         'Price_Differential', 'Advertising_Spend_EUR',\n",
        "                         'Customer_Reviews', 'Weather_Index',\n",
        "                         'Social_Media_Mentions']].corr()\n",
        "\n",
        "# Plot heatmap\n",
        "plt.figure(figsize=(10, 6))\n",
        "sns.heatmap(correlation_matrix, annot=True, cmap='coolwarm', fmt='.2f')\n",
        "plt.title('Correlation Heatmap')\n",
        "plt.show()\n"
      ],
      "metadata": {
        "id": "UsqeJrP_CjdV"
      },
      "execution_count": null,
      "outputs": []
    },
    {
      "cell_type": "markdown",
      "source": [
        "Regression Analysis (Sales vs. Drivers)"
      ],
      "metadata": {
        "id": "ipnUu9ayC-O2"
      }
    },
    {
      "cell_type": "code",
      "source": [
        "import statsmodels.api as sm\n",
        "\n",
        "# Define features and target\n",
        "X = df[['Price', 'Competitor_Price', 'Advertising_Spend_EUR']]\n",
        "X = sm.add_constant(X)  # Adds intercept\n",
        "y = df['Sales_Volume']\n",
        "\n",
        "# Fit model\n",
        "model = sm.OLS(y, X).fit()\n",
        "\n",
        "# View results\n",
        "print(model.summary())\n"
      ],
      "metadata": {
        "id": "1XfvmqwKCxiE"
      },
      "execution_count": null,
      "outputs": []
    },
    {
      "cell_type": "markdown",
      "source": [
        " Step 9: Competitor Pricing Impact (Visual Insight)\n"
      ],
      "metadata": {
        "id": "ReuzBQEPDc6C"
      }
    },
    {
      "cell_type": "code",
      "source": [
        "# Scatter plot: Price Differential vs Sales Volume\n",
        "plt.figure(figsize=(8, 5))\n",
        "sns.scatterplot(data=df, x='Price_Differential', y='Sales_Volume', hue='Category', palette='Set2')\n",
        "plt.axvline(0, color='red', linestyle='--', label='Price Match')\n",
        "plt.title('Price Differential vs Sales Volume')\n",
        "plt.legend()\n",
        "plt.show()\n"
      ],
      "metadata": {
        "id": "jI2JwlqGDHBg"
      },
      "execution_count": null,
      "outputs": []
    },
    {
      "cell_type": "markdown",
      "source": [
        "Step 10: Additional Insights — External Drivers\n",
        "\n",
        "analyze:\n",
        "\n",
        "📢 Ad Spend effectiveness\n",
        "\n",
        "⭐ Customer Review impact\n",
        "\n",
        "📱 Social Media buzz\n",
        "\n",
        "☀️ Weather effect\n",
        "\n"
      ],
      "metadata": {
        "id": "KVnjFpq5Dtc4"
      }
    },
    {
      "cell_type": "markdown",
      "source": [
        "1. Ad Spend vs Sales Volume\n"
      ],
      "metadata": {
        "id": "7qifkYfaD8Ty"
      }
    },
    {
      "cell_type": "code",
      "source": [
        "sns.scatterplot(data=df, x='Advertising_Spend_EUR', y='Sales_Volume', hue='Category')\n",
        "plt.title('Ad Spend vs Sales Volume')\n",
        "plt.show()\n"
      ],
      "metadata": {
        "id": "lpPrjq1HDfca"
      },
      "execution_count": null,
      "outputs": []
    },
    {
      "cell_type": "markdown",
      "source": [
        "🔹 2. Customer Reviews vs Sales Volume\n",
        "\n"
      ],
      "metadata": {
        "id": "VD9FfpXbEGrs"
      }
    },
    {
      "cell_type": "code",
      "source": [
        "sns.boxplot(data=df, x='Category', y='Customer_Reviews')\n",
        "plt.title('Customer Reviews by Category')\n",
        "plt.show()\n"
      ],
      "metadata": {
        "id": "sQIWwh65D5EI"
      },
      "execution_count": null,
      "outputs": []
    },
    {
      "cell_type": "markdown",
      "source": [
        "3. Social Media Mentions vs Sales Volume"
      ],
      "metadata": {
        "id": "Cn7sJVrsEQQZ"
      }
    },
    {
      "cell_type": "code",
      "source": [
        "sns.lmplot(data=df, x='Social_Media_Mentions', y='Sales_Volume', hue='Category', aspect=1.5)\n",
        "plt.title('Social Media Mentions vs Sales Volume')\n"
      ],
      "metadata": {
        "id": "TFnQMvweEWbj"
      },
      "execution_count": null,
      "outputs": []
    },
    {
      "cell_type": "markdown",
      "source": [
        "4. Weather Index vs Sales Volume"
      ],
      "metadata": {
        "id": "RDzsiCfbERK8"
      }
    },
    {
      "cell_type": "code",
      "source": [
        "sns.lmplot(data=df, x='Weather_Index', y='Sales_Volume', hue='Category', aspect=1.5)\n",
        "plt.title('Weather Index vs Sales Volume')\n"
      ],
      "metadata": {
        "id": "aVID3Y4XEdHz"
      },
      "execution_count": null,
      "outputs": []
    },
    {
      "cell_type": "markdown",
      "source": [
        "Step 11: Final Recommendations\n",
        "Here are 5 data-driven suggestions you can include in your final slide:\n",
        "\n"
      ],
      "metadata": {
        "id": "BKS_UdmzE509"
      }
    },
    {
      "cell_type": "markdown",
      "source": [
        "🎯 Recommendations (for Slide 7)\n",
        "\n",
        "Price Strategy:\n",
        "\n",
        "\n",
        "Most products are priced close to competitors.\n",
        "\n",
        "\n",
        "Recommend selectively undercutting in Electronics to gain volume.\n",
        "\n",
        "\n",
        "Use price optimization for Home Goods (less price-sensitive).\n",
        "\n",
        "Ad Spend:\n",
        "\n",
        "Optimize, don’t increase — high ad spend ≠ higher sales.\n",
        "\n",
        "Focus on high ROI products based on Ad_Efficiency.\n",
        "\n",
        "Review Management:\n",
        "\n",
        "Improve product listings for low-rated items to boost perception.\n",
        "\n",
        "Prioritize high-rated products in promotions.\n",
        "\n",
        "\n",
        "Stock Management:\n",
        "\n",
        "\n",
        "Ensure stock availability for top-selling items (many stockouts had high sales).\n",
        "\n",
        "Consider predictive inventory planning.\n",
        "\n",
        "\n",
        "Social & Weather:\n",
        "\n",
        "\n",
        "Weather influence is minimal but noticeable — especially for seasonal clothing.\n",
        "\n",
        "Social buzz can be tracked for post-sale engagement but isn't a strong driver.\n",
        "\n"
      ],
      "metadata": {
        "id": "pga6OsHeE8is"
      }
    }
  ]
}